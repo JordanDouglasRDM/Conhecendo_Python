{
  "nbformat": 4,
  "nbformat_minor": 0,
  "metadata": {
    "colab": {
      "provenance": [],
      "collapsed_sections": [],
      "include_colab_link": true
    },
    "kernelspec": {
      "name": "python3",
      "display_name": "Python 3"
    }
  },
  "cells": [
    {
      "cell_type": "markdown",
      "metadata": {
        "id": "view-in-github",
        "colab_type": "text"
      },
      "source": [
        "<a href=\"https://colab.research.google.com/github/JordanDouglasRDM/Conhecendo_Python/blob/main/Jordan_Douglas_221_Est_Repeticao_n.ipynb\" target=\"_parent\"><img src=\"https://colab.research.google.com/assets/colab-badge.svg\" alt=\"Open In Colab\"/></a>"
      ]
    },
    {
      "cell_type": "markdown",
      "metadata": {
        "id": "TWJjhvldsGq1"
      },
      "source": [
        "#ESTRUTURA DE REPETIÇÃO\n",
        "##Todos estes algoritmos/programas podem ser implementados com o comando **while** ou **for**. Para estudar, implemente cada exercício com as **duas** estruturas de repetição."
      ]
    },
    {
      "cell_type": "markdown",
      "metadata": {
        "id": "ra2ortoj88ct"
      },
      "source": [
        "###1. Faça um algoritmo  que mostre 10 vezes a frase “Bem vindo a Fatec!”. Pode implementar com o comando while ou for."
      ]
    },
    {
      "cell_type": "code",
      "source": [
        "for cont in range(11):\n",
        "    print('Bm vindos a Fatec')"
      ],
      "metadata": {
        "id": "PXzYNTewBHPb"
      },
      "execution_count": null,
      "outputs": []
    },
    {
      "cell_type": "code",
      "metadata": {
        "id": "w87cAtUi9P5j"
      },
      "source": [
        "cont = int(1)\n",
        "while cont < 11:\n",
        "    print('Bem vindos a Fatec')\n",
        "    cont = cont + 1"
      ],
      "execution_count": null,
      "outputs": []
    },
    {
      "cell_type": "markdown",
      "metadata": {
        "id": "Tz26_Q_09QzZ"
      },
      "source": [
        "###2. Faça um algoritmo que mostre o cumprimento ‘Olá ‘ para o nome de alguém (4 pessoas). Exemplo ‘Olá Mariana’. Pode implementar com o comando while ou for.\n",
        " "
      ]
    },
    {
      "cell_type": "code",
      "source": [
        "for cont in range(5):\n",
        "    name = str(input())\n",
        "    print(F'Olá {name}')"
      ],
      "metadata": {
        "id": "FBHOdTcjBRlf"
      },
      "execution_count": null,
      "outputs": []
    },
    {
      "cell_type": "code",
      "metadata": {
        "id": "EK8e5Oxn9eFX"
      },
      "source": [
        "cont = int(1)\n",
        "while cont < 5:\n",
        "    name = str(input('Informe o nome: '))\n",
        "    print(F'Olá {name}')\n",
        "    cont = cont + 1"
      ],
      "execution_count": null,
      "outputs": []
    },
    {
      "cell_type": "markdown",
      "metadata": {
        "id": "-tIGmOam9eaB"
      },
      "source": [
        "###3. Faça um algoritmo que mostre os valores de 0 a 15. Pode implementar com o comando while ou for.\n"
      ]
    },
    {
      "cell_type": "code",
      "metadata": {
        "id": "PVFy9VEE9jy9",
        "colab": {
          "base_uri": "https://localhost:8080/"
        },
        "outputId": "7be12dac-7ca3-4782-ee89-3bff018aa8c0"
      },
      "source": [
        "cont = 0\n",
        "while cont < 16:\n",
        "    print(cont)\n",
        "    cont = cont + 1"
      ],
      "execution_count": null,
      "outputs": [
        {
          "output_type": "stream",
          "name": "stdout",
          "text": [
            "0\n",
            "1\n",
            "2\n",
            "3\n",
            "4\n",
            "5\n",
            "6\n",
            "7\n",
            "8\n",
            "9\n",
            "10\n",
            "11\n",
            "12\n",
            "13\n",
            "14\n",
            "15\n"
          ]
        }
      ]
    },
    {
      "cell_type": "markdown",
      "metadata": {
        "id": "n2GgpaGP9j-A"
      },
      "source": [
        "###4. Faça um algoritmo que mostre os valores de 3 a 20. Pode implementar com o comando while ou for.\n"
      ]
    },
    {
      "cell_type": "code",
      "metadata": {
        "id": "lqitidIO9rOm",
        "colab": {
          "base_uri": "https://localhost:8080/"
        },
        "outputId": "c07b2019-ad21-466b-f3dd-8cedde61d4f3"
      },
      "source": [
        "for cont in range(3,21):\n",
        "    print(cont)"
      ],
      "execution_count": null,
      "outputs": [
        {
          "output_type": "stream",
          "name": "stdout",
          "text": [
            "3\n",
            "4\n",
            "5\n",
            "6\n",
            "7\n",
            "8\n",
            "9\n",
            "10\n",
            "11\n",
            "12\n",
            "13\n",
            "14\n",
            "15\n",
            "16\n",
            "17\n",
            "18\n",
            "19\n",
            "20\n"
          ]
        }
      ]
    },
    {
      "cell_type": "markdown",
      "metadata": {
        "id": "C8RRCFc_9sTL"
      },
      "source": [
        "###5. Faça um algoritmo que calcule e mostre a tabuada do 5. Pode implementar com o comando while ou for.\n"
      ]
    },
    {
      "cell_type": "code",
      "metadata": {
        "id": "4QBLg1ka91dV",
        "colab": {
          "base_uri": "https://localhost:8080/"
        },
        "outputId": "091c2f14-5b73-42d2-c3d5-a8d5f0400b34"
      },
      "source": [
        "cont = 1\n",
        "while cont < 11:\n",
        "    tab5 = int(cont * 5)\n",
        "    print(F'{cont}x5 = {tab5}')\n",
        "    cont = cont + 1"
      ],
      "execution_count": null,
      "outputs": [
        {
          "output_type": "stream",
          "name": "stdout",
          "text": [
            "1x5 = 5\n",
            "2x5 = 10\n",
            "3x5 = 15\n",
            "4x5 = 20\n",
            "5x5 = 25\n",
            "6x5 = 30\n",
            "7x5 = 35\n",
            "8x5 = 40\n",
            "9x5 = 45\n",
            "10x5 = 50\n"
          ]
        }
      ]
    },
    {
      "cell_type": "markdown",
      "metadata": {
        "id": "nJv5jBoq91tW"
      },
      "source": [
        "###6. Faça um algoritmo que receba a idade de 10 pessoas, calcule e exiba a quantidade de pessoas maiores de idade, sendo que a maioridade é obtida após completar 18 anos. Pode implementar com o comando while ou for.\n"
      ]
    },
    {
      "cell_type": "code",
      "metadata": {
        "id": "FXOsNMt_96QH"
      },
      "source": [
        "maior = 0\n",
        "\n",
        "for cont in range(1,11):\n",
        "    idade = int(input(F'Informe a {cont}° idade: '))\n",
        "    if idade >= 18:\n",
        "        maior += 1\n",
        "    cont += 1\n",
        "print(F'{maior} pessoas são maiores de idade!')\n",
        "    "
      ],
      "execution_count": null,
      "outputs": []
    },
    {
      "cell_type": "markdown",
      "metadata": {
        "id": "g5RA7KN896ep"
      },
      "source": [
        "###7. Escreva um algoritmo que receba 23 números, calcule e exiba a quantidade de números pares e impares. Pode implementar com o comando while ou for.\n"
      ]
    },
    {
      "cell_type": "code",
      "metadata": {
        "id": "JBnJiugI9_Q1",
        "colab": {
          "base_uri": "https://localhost:8080/"
        },
        "outputId": "b29e4226-e119-4eae-90df-762578922af5"
      },
      "source": [
        "cont = 0\n",
        "par = 0\n",
        "impar = 0\n",
        "while cont < 24:\n",
        "    num = int(input('Informe o número: '))\n",
        "    if num % 2 == 0:\n",
        "        par = int(par + 1)\n",
        "    else:\n",
        "        impar = int(impar + 1)\n",
        "    cont = cont + 1\n",
        "print(F'Existem {par} números pares e {impar} números ímpares!')"
      ],
      "execution_count": null,
      "outputs": [
        {
          "output_type": "stream",
          "name": "stdout",
          "text": [
            "Informe o número: 2\n",
            "Informe o número: 5\n",
            "Informe o número: 8\n",
            "Existem 2 números pares e 1 números ímpares!\n"
          ]
        }
      ]
    },
    {
      "cell_type": "markdown",
      "metadata": {
        "id": "DVuRwa6J9_in"
      },
      "source": [
        "###8. Faça um algoritmo que calcule e exiba o salário reajustado de dez funcionários de acordo com a seguinte regra (pode implementar com o comando while ou for): \n",
        "### Salário até 300, reajuste de 50%; \n",
        "\n",
        "###Salários maiores que 300, reajuste de 30%.\n",
        "\n",
        "\n"
      ]
    },
    {
      "cell_type": "code",
      "metadata": {
        "id": "GnYXpwwH-Drd",
        "colab": {
          "base_uri": "https://localhost:8080/"
        },
        "outputId": "1cb5f86f-2a5e-4697-ff73-bb2b8fddd359"
      },
      "source": [
        "for cont in range(1,11):\n",
        "    salario = float(input(F'Informe o salário do {cont}° funcionário: '))\n",
        "    if salario < 301:\n",
        "        salario = salario + (salario * 0.50)\n",
        "        print(F'O salário reajustado do {cont}° funcionário é de R${salario}')\n",
        "    else:\n",
        "        salario = salario + (salario * 0.30)\n",
        "        print(F'O salário reajustado do {cont}° funcionário é de R${salario}')"
      ],
      "execution_count": null,
      "outputs": [
        {
          "output_type": "stream",
          "name": "stdout",
          "text": [
            "Informe o salário do 1° funcionário: 500\n",
            "O salário reajustado do 1° funcionário é de R$650.0\n",
            "Informe o salário do 2° funcionário: 300\n",
            "O salário reajustado do 2° funcionário é de R$450.0\n",
            "Informe o salário do 3° funcionário: 890\n",
            "O salário reajustado do 3° funcionário é de R$1157.0\n"
          ]
        }
      ]
    },
    {
      "cell_type": "markdown",
      "metadata": {
        "id": "WWEunLW8-D2h"
      },
      "source": [
        "\n",
        "###9. Faça um algoritmo que conheça 4 preços de produtos, some-os e mostre o resultado. Pode implementar com o comando while ou for.\n"
      ]
    },
    {
      "cell_type": "code",
      "metadata": {
        "id": "N9cUIxJk-HLg",
        "colab": {
          "base_uri": "https://localhost:8080/"
        },
        "outputId": "be622a82-92d7-4c2c-9e6c-269b3d61eb68"
      },
      "source": [
        "cont = 1\n",
        "soma = 0\n",
        "while cont < 5:\n",
        "    prec = int(input(F'Informe o valor para o {cont}° produto: '))\n",
        "    soma = soma + prec \n",
        "    cont += 1\n",
        "print(F'A soma total dos produtos é: R${soma}')"
      ],
      "execution_count": null,
      "outputs": [
        {
          "output_type": "stream",
          "name": "stdout",
          "text": [
            "Informe o valor para o 1° produto: 25\n",
            "Informe o valor para o 2° produto: 30\n",
            "Informe o valor para o 3° produto: 5\n",
            "Informe o valor para o 4° produto: 10\n",
            "A soma total dos produtos é: R$70\n"
          ]
        }
      ]
    },
    {
      "cell_type": "markdown",
      "metadata": {
        "id": "rf_lUW8J-HbR"
      },
      "source": [
        "###10. Faça um algoritmo que calcule e informe a média de idades de 5 alunos. Pode implementar com o comando while ou for."
      ]
    },
    {
      "cell_type": "code",
      "metadata": {
        "id": "kIGzHgii-Teb",
        "colab": {
          "base_uri": "https://localhost:8080/"
        },
        "outputId": "908b6908-4a50-4c37-98fe-d9cf4fa5a8f9"
      },
      "source": [
        "soma = 0\n",
        "for cont in range(6):\n",
        "    nota = int(input(F'Informe o valor da {cont}° nota: '))\n",
        "    soma = int(soma + nota)\n",
        "media = soma / 5\n",
        "print(F'A média das notas informadas é: {media}')"
      ],
      "execution_count": null,
      "outputs": [
        {
          "output_type": "stream",
          "name": "stdout",
          "text": [
            "Informe o valor da 0° nota: 10\n",
            "Informe o valor da 1° nota: 8\n",
            "Informe o valor da 2° nota: 6\n",
            "Informe o valor da 3° nota: 8\n",
            "Informe o valor da 4° nota: 7\n",
            "Informe o valor da 5° nota: 2\n",
            "A média das notas informadas é: 8.2 41\n"
          ]
        }
      ]
    },
    {
      "cell_type": "markdown",
      "metadata": {
        "id": "cTQOtgv8-TqZ"
      },
      "source": [
        "###11. Faça um algoritmo que conheça 4 preços de produtos, calcule e mostre a média aritmética dos preços. Pode implementar com o comando while ou for.\n"
      ]
    },
    {
      "cell_type": "code",
      "metadata": {
        "id": "1jGiDIq--XfE",
        "colab": {
          "base_uri": "https://localhost:8080/"
        },
        "outputId": "1ac327b8-2f0d-45b8-9e0d-52d38df08563"
      },
      "source": [
        "cont = 1\n",
        "valor = 0\n",
        "soma_val = 0\n",
        "while cont < 5:\n",
        "    valor = int(input(F'Insira o valor do {cont}° produto: '))\n",
        "    soma_val = int(soma_val + valor)\n",
        "    cont = cont + 11\n",
        "media = float(soma_val / 4)\n",
        "print(F'A media dos valores é R${media}')"
      ],
      "execution_count": null,
      "outputs": [
        {
          "output_type": "stream",
          "name": "stdout",
          "text": [
            "Insira o valor do 1° produto: 10\n",
            "Insira o valor do 2° produto: 11\n",
            "Insira o valor do 3° produto: 12\n",
            "Insira o valor do 4° produto: 11\n",
            "A media dos valores é R$11.0\n"
          ]
        }
      ]
    },
    {
      "cell_type": "markdown",
      "source": [
        "###12. Faça um programa que receba a idade e a altura de 20 pessoas. Calcule e exiba a média das alturas das pessoas com mais de 20 anos.\n",
        "\n",
        "\n"
      ],
      "metadata": {
        "id": "q2aJm6ktRIKX"
      }
    },
    {
      "cell_type": "code",
      "source": [
        "soma_altura = 0\n",
        "cont_alt = 0\n",
        "for cont in range(1,5):\n",
        "    idade = int(input(F'Informe a idade da {cont}° pessoa: '))\n",
        "    altura = float(input(F'informe a altura da {cont}° pessoa: '))\n",
        "    if idade > 20:\n",
        "        soma_altura = float(soma_altura + altura)\n",
        "        cont_alt = int(cont_alt + 1)\n",
        "media_alt = float(soma_altura / cont_alt)\n",
        "print(F'a média das altura das pessoas que são maiores que 20 anos é {media_alt}')"
      ],
      "metadata": {
        "id": "BrL7c0SiReMX",
        "colab": {
          "base_uri": "https://localhost:8080/"
        },
        "outputId": "869515ef-78ff-4dfa-a843-dfbb1cfeda65"
      },
      "execution_count": null,
      "outputs": [
        {
          "output_type": "stream",
          "name": "stdout",
          "text": [
            "Informe a idade da 1° pessoa: 21\n",
            "informe a altura da 1° pessoa: 1.80\n",
            "Informe a idade da 2° pessoa: 25\n",
            "informe a altura da 2° pessoa: 1.88\n",
            "Informe a idade da 3° pessoa: 15\n",
            "informe a altura da 3° pessoa: 1.54\n",
            "Informe a idade da 4° pessoa: 110\n",
            "informe a altura da 4° pessoa: 1.78\n",
            "a média das altura das pessoas que são maiores que 20 anos é 1.82\n"
          ]
        }
      ]
    },
    {
      "cell_type": "markdown",
      "metadata": {
        "id": "aI4IjOYw-XwG"
      },
      "source": [
        "###13. Faça um algoritmo que leia o preço de 20 TV, determine e apresente a média dos preços que possuem valor maior que R$ 1000. Pode implementar com o comando while ou for."
      ]
    },
    {
      "cell_type": "code",
      "source": [
        "soma_val = 0\n",
        "cont = 1\n",
        "qnt_tv = 0\n",
        "while cont < 5:\n",
        "    valor_tv = float(input(F'Informe o valor da {cont}° tv: '))\n",
        "    if valor_tv > 1000:\n",
        "        qnt_tv = qnt_tv + 1\n",
        "        soma_val = float(soma_val + valor_tv)\n",
        "        media_val = float(soma_val / qnt_tv)\n",
        "    cont += 1\n",
        "print(F'A média do valor das tvs que possuem valor maior que R$1000, é R${media_val}.')"
      ],
      "metadata": {
        "id": "0YxUWj8KQriq",
        "colab": {
          "base_uri": "https://localhost:8080/"
        },
        "outputId": "21ceed4a-da1c-4ee7-b4f5-9191e5d237b9"
      },
      "execution_count": null,
      "outputs": [
        {
          "output_type": "stream",
          "name": "stdout",
          "text": [
            "Informe o valor da 1° tv: 1500\n",
            "Informe o valor da 2° tv: 1350\n",
            "Informe o valor da 3° tv: 999\n",
            "Informe o valor da 4° tv: 1000\n",
            "A média do valor das tvs que possuem valor maior que R$1000, é R$1425.0.\n"
          ]
        }
      ]
    },
    {
      "cell_type": "markdown",
      "source": [
        "###14. Faça um programa que calcule e apresente as tabuadas do 3 ao 7. Este exercício utiliza DUAS estruturas de repetição."
      ],
      "metadata": {
        "id": "wJ0MVHDlQrNb"
      }
    },
    {
      "cell_type": "code",
      "metadata": {
        "id": "QRC-wB1g-ceV",
        "colab": {
          "base_uri": "https://localhost:8080/"
        },
        "outputId": "03e414dc-0058-48de-b6cd-81fea29fe1bf"
      },
      "source": [
        "print('Tabuada do número 3: ')\n",
        "for cont in range(1,11):\n",
        "    tab3 = int(cont * 3)\n",
        "    print(F'3X{cont} = {tab3}')\n",
        "print('\\n\\n')\n",
        "print('Tabuada do número 4: ')\n",
        "cont = 1\n",
        "while cont < 11:\n",
        "    tab4 = int(cont * 4)\n",
        "    print(F'4X{cont} = {tab4}')\n",
        "    cont = cont + 1\n",
        "print('\\n\\n')\n",
        "print('Tabuada do número 5: ')\n",
        "for cont in range(1,11):\n",
        "    tab5 = int(cont * 5)\n",
        "    print(F'5X{cont} = {tab5}')\n",
        "print('\\n\\n')\n",
        "print('Tabuada do número 6: ')\n",
        "cont = 1\n",
        "while cont < 11:\n",
        "    tab6 = int(cont * 6)\n",
        "    print(F'6X{cont} = {tab6}')\n",
        "    cont = cont + 1\n",
        "print('\\n\\n')\n",
        "print('Tabuada do número 7: ')\n",
        "for cont in range(1,11):\n",
        "    tab7 = int(cont * 7)\n",
        "    print(F'7X{cont} = {tab7}')"
      ],
      "execution_count": null,
      "outputs": [
        {
          "output_type": "stream",
          "name": "stdout",
          "text": [
            "Tabuada do número 3: \n",
            "3X1 = 3\n",
            "3X2 = 6\n",
            "3X3 = 9\n",
            "3X4 = 12\n",
            "3X5 = 15\n",
            "3X6 = 18\n",
            "3X7 = 21\n",
            "3X8 = 24\n",
            "3X9 = 27\n",
            "3X10 = 30\n",
            "\n",
            "\n",
            "\n",
            "Tabuada do número 4: \n",
            "4X1 = 4\n",
            "4X2 = 8\n",
            "4X3 = 12\n",
            "4X4 = 16\n",
            "4X5 = 20\n",
            "4X6 = 24\n",
            "4X7 = 28\n",
            "4X8 = 32\n",
            "4X9 = 36\n",
            "4X10 = 40\n",
            "\n",
            "\n",
            "\n",
            "Tabuada do número 5: \n",
            "5X1 = 5\n",
            "5X2 = 10\n",
            "5X3 = 15\n",
            "5X4 = 20\n",
            "5X5 = 25\n",
            "5X6 = 30\n",
            "5X7 = 35\n",
            "5X8 = 40\n",
            "5X9 = 45\n",
            "5X10 = 50\n",
            "\n",
            "\n",
            "\n",
            "Tabuada do número 6: \n",
            "6X1 = 6\n",
            "6X2 = 12\n",
            "6X3 = 18\n",
            "6X4 = 24\n",
            "6X5 = 30\n",
            "6X6 = 36\n",
            "6X7 = 42\n",
            "6X8 = 48\n",
            "6X9 = 54\n",
            "6X10 = 60\n",
            "\n",
            "\n",
            "\n",
            "Tabuada do número 7: \n",
            "7X1 = 7\n",
            "7X2 = 14\n",
            "7X3 = 21\n",
            "7X4 = 28\n",
            "7X5 = 35\n",
            "7X6 = 42\n",
            "7X7 = 49\n",
            "7X8 = 56\n",
            "7X9 = 63\n",
            "7X10 = 70\n"
          ]
        }
      ]
    },
    {
      "cell_type": "markdown",
      "source": [
        "###15. Faça um programa para o curso de ADS (6 módulos), cada sala tem 30 alunos, calcule e apresente os seguintes itens:\n",
        "*  Quantidade de homens e mulheres de cada módulo;\n",
        "*  Média de idades de cada módulo;\n",
        "*  Quantidade de homens e mulheres do curso todo;\n",
        "*  Média de idades do curso todo.\n",
        "\n",
        "Observação: este exercício utiliza DUAS estruturas de repetição."
      ],
      "metadata": {
        "id": "wu3gKhw_P-t2"
      }
    },
    {
      "cell_type": "code",
      "source": [
        "media_idade_geral = 0\n",
        "soma_das_media = 0\n",
        "soma_h = 0\n",
        "soma_m = 0\n",
        "qnt_modulos = 3\n",
        "qnt_alunos_modulos = 3\n",
        "for i in range(1,4):\n",
        "    print(F'Dados dos alunos do {i}° módulo:')\n",
        "    soma_idade = 0\n",
        "    contM = 0\n",
        "    contF = 0\n",
        "    for j in range(1,4):\n",
        "        gen = str(input(F'Informe o GÊNERO do {j}° aluno (m ou f):'))\n",
        "        if gen == \"m\":\n",
        "            contM = contM + 1\n",
        "        elif gen == \"f\":\n",
        "            contF = contF + 1\n",
        "        idade = int(input(F'Informe a IDADE do {j}° aluno: '))\n",
        "        soma_idade = soma_idade + idade\n",
        "        media_idade = soma_idade / qnt_alunos_modulos\n",
        "    soma_das_media = soma_das_media + media_idade\n",
        "    media_idade_geral = soma_das_media / qnt_modulos\n",
        "    print('\\n\\n')\n",
        "    print(F'Tem {contM} homens no {i}° módulo e {contF} mulheres')\n",
        "    print(F'A média da idade dos alunos no {i}° módulo é {media_idade}')\n",
        "    print('\\n\\n')\n",
        "    soma_h = soma_h + contM\n",
        "    soma_m = soma_m + contF\n",
        "print('\\n\\n')\n",
        "print(F'A soma da quantidade de todos os homens do curso é {soma_h}, e de mulheres é {soma_m}')\n",
        "print(F'A média das idades de todo o curso {media_idade_geral:.2f}')"
      ],
      "metadata": {
        "id": "lBhG5qbYQJaS",
        "colab": {
          "base_uri": "https://localhost:8080/"
        },
        "outputId": "17ca2179-4a1e-4728-d2ae-4032add6f3d8"
      },
      "execution_count": null,
      "outputs": [
        {
          "output_type": "stream",
          "name": "stdout",
          "text": [
            "Dados dos alunos do 1° módulo:\n",
            "Informe o GÊNERO do 1° aluno (m ou f):m\n",
            "Informe a IDADE do 1° aluno: 25\n",
            "Informe o GÊNERO do 2° aluno (m ou f):f\n",
            "Informe a IDADE do 2° aluno: 63\n",
            "Informe o GÊNERO do 3° aluno (m ou f):m\n",
            "Informe a IDADE do 3° aluno: 14\n",
            "\n",
            "\n",
            "\n",
            "Tem 2 homens no 1° módulo e 1 mulheres\n",
            "A média da idade dos alunos no 1° módulo é 34.0\n",
            "\n",
            "\n",
            "\n",
            "Dados dos alunos do 2° módulo:\n",
            "Informe o GÊNERO do 1° aluno (m ou f):f\n",
            "Informe a IDADE do 1° aluno: 18\n",
            "Informe o GÊNERO do 2° aluno (m ou f):m\n",
            "Informe a IDADE do 2° aluno: 19\n",
            "Informe o GÊNERO do 3° aluno (m ou f):f\n",
            "Informe a IDADE do 3° aluno: 20\n",
            "\n",
            "\n",
            "\n",
            "Tem 1 homens no 2° módulo e 2 mulheres\n",
            "A média da idade dos alunos no 2° módulo é 19.0\n",
            "\n",
            "\n",
            "\n",
            "Dados dos alunos do 3° módulo:\n",
            "Informe o GÊNERO do 1° aluno (m ou f):m\n",
            "Informe a IDADE do 1° aluno: 22\n",
            "Informe o GÊNERO do 2° aluno (m ou f):f\n",
            "Informe a IDADE do 2° aluno: 24\n",
            "Informe o GÊNERO do 3° aluno (m ou f):m\n",
            "Informe a IDADE do 3° aluno: 26\n",
            "\n",
            "\n",
            "\n",
            "Tem 2 homens no 3° módulo e 1 mulheres\n",
            "A média da idade dos alunos no 3° módulo é 24.0\n",
            "\n",
            "\n",
            "\n",
            "\n",
            "\n",
            "\n",
            "A soma da quantidade de todos os homens do curso é 5, e de mulheres é 4\n",
            "A média das idades de todo o curso 25.666666666666668\n"
          ]
        }
      ]
    }
  ]
}