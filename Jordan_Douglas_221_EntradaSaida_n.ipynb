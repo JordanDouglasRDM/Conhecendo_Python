{
  "nbformat": 4,
  "nbformat_minor": 0,
  "metadata": {
    "colab": {
      "provenance": [],
      "collapsed_sections": [],
      "include_colab_link": true
    },
    "kernelspec": {
      "name": "python3",
      "display_name": "Python 3"
    }
  },
  "cells": [
    {
      "cell_type": "markdown",
      "metadata": {
        "id": "view-in-github",
        "colab_type": "text"
      },
      "source": [
        "<a href=\"https://colab.research.google.com/github/JordanDouglasRDM/Conhecendo_Python/blob/main/Jordan_Douglas_221_EntradaSaida_n.ipynb\" target=\"_parent\"><img src=\"https://colab.research.google.com/assets/colab-badge.svg\" alt=\"Open In Colab\"/></a>"
      ]
    },
    {
      "cell_type": "markdown",
      "metadata": {
        "id": "5gti273fgVUm"
      },
      "source": [
        "# Exercícios para construir programas com ENTRADA, PROCESSAMENTO e SAÍDA"
      ]
    },
    {
      "cell_type": "markdown",
      "metadata": {
        "id": "OhRjsGO5gXft"
      },
      "source": [
        "### 1. Faça um programa que leia um número, multiplique ele por 2 e apresente o resultado.\n",
        "      LEIA numero\n",
        "      resultado = numero * 2\n",
        "      ESCREVA resultado"
      ]
    },
    {
      "cell_type": "code",
      "metadata": {
        "id": "gl_HmcKjgIgH",
        "colab": {
          "base_uri": "https://localhost:8080/"
        },
        "outputId": "0eb9a5cb-222e-4ec9-ef5b-00a7bde17c57"
      },
      "source": [
        "# 1º passo - identificar a(s) entrada(s) - variável número\n",
        "numero = int(input('Informe um valor: '))\n",
        "# 2º passo - identificar o cálculo/processamento\n",
        "resultado = numero * 2\n",
        "# 3º passo - apresentar a(s) variáveis que foram calculadas\n",
        "print('O resultado é:',resultado)"
      ],
      "execution_count": null,
      "outputs": [
        {
          "output_type": "stream",
          "name": "stdout",
          "text": [
            "Informe um valor: 5\n",
            "O resultado é: 10\n"
          ]
        }
      ]
    },
    {
      "cell_type": "markdown",
      "metadata": {
        "id": "tYDfNkC3geee"
      },
      "source": [
        "### 2. Faça um programa que:\n",
        "* receba três números inteiros\n",
        "* calcule e mostre a soma desses números.\n"
      ]
    },
    {
      "cell_type": "code",
      "metadata": {
        "id": "KVDopJZngcRf",
        "colab": {
          "base_uri": "https://localhost:8080/"
        },
        "outputId": "04a1438a-12fe-45f0-8327-6e789b1656c2"
      },
      "source": [
        "n1 = int(input('Digite um número para n1: '))\n",
        "n2 = int(input('Digite um número para n2: '))\n",
        "n3 = int(input('Digite um número para n3: '))\n",
        "soma = int(n1 + n2 + n3)\n",
        "print('A soma dos 3 números informados é: ', soma)"
      ],
      "execution_count": null,
      "outputs": [
        {
          "output_type": "stream",
          "name": "stdout",
          "text": [
            "Digite um número para n1: 5\n",
            "Digite um número para n2: 2\n",
            "Digite um número para n3: 5\n",
            "A soma dos 3 números informados é:  12\n"
          ]
        }
      ]
    },
    {
      "cell_type": "markdown",
      "metadata": {
        "id": "lMGZBLxfghBl"
      },
      "source": [
        "### 3. Faça um programa que receba três notas, calcule e mostre a média aritmética.\n",
        "      LEIA nota1, nota2, nota3\n",
        "      media = (nota1 + nota2 + nota3) / 3\n",
        "      ESCREVA media\n",
        "      "
      ]
    },
    {
      "cell_type": "code",
      "metadata": {
        "id": "awkP7ZbHgxRO",
        "colab": {
          "base_uri": "https://localhost:8080/"
        },
        "outputId": "88423b5e-f3fb-44c9-ac8a-450ae221566d"
      },
      "source": [
        "nota1 = int(input('Informe o valor da nota 1: '))\n",
        "nota2 = int(input('Informe o valor da nota 2: '))\n",
        "nota3 = int(input('Informe o valor da nota 3: '))\n",
        "media = float((nota1 + nota2 + nota3)/3 )\n",
        "print('A média das 3 notas informadas é: ',media)"
      ],
      "execution_count": null,
      "outputs": [
        {
          "output_type": "stream",
          "name": "stdout",
          "text": [
            "Informe o valor da nota 1: 10\n",
            "Informe o valor da nota 2: 8\n",
            "Informe o valor da nota 3: 9\n",
            "A média das 3 notas informadas é:  9.0\n"
          ]
        }
      ]
    },
    {
      "cell_type": "markdown",
      "metadata": {
        "id": "wh1Bjz9agxme"
      },
      "source": [
        "### 4. Faça um programa que:\n",
        "* receba o salário de um funcionário\n",
        "* calcule e mostre o novo salário, sabendo-se que este sofreu um aumento de 25%.\n",
        "\n",
        "      LEIA salario\n",
        "      novoSalario = salario + (salario * 25 / 100)\n",
        "      ESCREVA novoSalario"
      ]
    },
    {
      "cell_type": "code",
      "metadata": {
        "id": "FxXwABFVgygE",
        "colab": {
          "base_uri": "https://localhost:8080/"
        },
        "outputId": "2679dc7f-a2c2-4847-b1f7-418e3690785b"
      },
      "source": [
        "salario = float(input('Informe seu salário: '))\n",
        "Nsalario = float(salario + (salario * 25 / 100))\n",
        "print('Seu novo salário com aumento de 25% é: R$', Nsalario)"
      ],
      "execution_count": null,
      "outputs": [
        {
          "output_type": "stream",
          "name": "stdout",
          "text": [
            "Informe seu salário: 1250\n",
            "Seu novo salário com aumento de 25% é: R$ 1562.5\n"
          ]
        }
      ]
    },
    {
      "cell_type": "markdown",
      "metadata": {
        "id": "YQP_f4hzgyrh"
      },
      "source": [
        "### 5. Faça um programa que receba o salário de um funcionário e o percentual de aumento, calcule e mostre o valor do aumento e o novo salário.\n"
      ]
    },
    {
      "cell_type": "code",
      "metadata": {
        "id": "9T2dzNEug1PR",
        "colab": {
          "base_uri": "https://localhost:8080/"
        },
        "outputId": "52ef027f-a051-44e5-e519-ad56aaa82cff"
      },
      "source": [
        "salario = int(input('Informe seu salário: '))\n",
        "porcentagem = int(input('informe o percen1tual de aumento: '))\n",
        "aumento = int(salario * porcentagem / 100)\n",
        "Nsalario = int(salario + (salario * porcentagem / 100))\n",
        "print('Seu aumento foi de ',porcentagem,'%, que equivale a: R$', aumento)\n",
        "print('A partir do seu aumento, seu novo salário é: R$', Nsalario)"
      ],
      "execution_count": null,
      "outputs": [
        {
          "output_type": "stream",
          "name": "stdout",
          "text": [
            "Informe seu salário: 1830\n",
            "informe o percen1tual de aumento: 10\n",
            "Seu aumento foi de  10 %, que equivale a: R$ 183\n",
            "A partir do seu aumento, seu novo salário é: R$ 2013\n"
          ]
        }
      ]
    },
    {
      "cell_type": "markdown",
      "metadata": {
        "id": "PXXsNWWEg1bu"
      },
      "source": [
        "### 6. Faça um programa que receba o salário base de um funcionário, calcule e mostre o salário a receber, sabendo-se que o funcionário tem gratificação de 5% sobre o salário base e **paga imposto** de 7% também sobre o salário base."
      ]
    },
    {
      "cell_type": "code",
      "metadata": {
        "id": "x7xfAIUgg5qV",
        "colab": {
          "base_uri": "https://localhost:8080/"
        },
        "outputId": "8c9d8a16-6104-46fa-8d22-259428038cb8"
      },
      "source": [
        "salario = float(input('Informe seu salário: '))\n",
        "grat = float(salario * 0.05)\n",
        "imposto = float(salario * 0.07)\n",
        "Nsalario = float((salario + grat) - imposto)\n",
        "print('Seu salário a receber é de: R$', Nsalario)"
      ],
      "execution_count": null,
      "outputs": [
        {
          "output_type": "stream",
          "name": "stdout",
          "text": [
            "Informe seu salário: 1830\n",
            "Seu salário a receber é de: R$ 1793.4\n"
          ]
        }
      ]
    },
    {
      "cell_type": "markdown",
      "metadata": {
        "id": "wSkc33VHg50d"
      },
      "source": [
        "### 7. Faça um programa que receba o salário base de um funcionário, calcule e mostre seu salário a receber, sabendo-se que o funcionário tem gratificação de 50,00 sobre o salário base e paga imposto que deve ser lido e é aplicado sobre o salário base.\n",
        "\n",
        "    LEIA salario, perImposto\n",
        "    imposto = salario * perImposto / 100\n",
        "    salario_a_receber = salario + 50 - imposto\n",
        "    ESCREVA salario_a_receber"
      ]
    },
    {
      "cell_type": "code",
      "metadata": {
        "id": "rEwclxM7g8cj",
        "colab": {
          "base_uri": "https://localhost:8080/"
        },
        "outputId": "97c0a3ca-3d3f-4eae-c24f-cb10d353eedb"
      },
      "source": [
        "salario = float(input('Informe seu salário: '))\n",
        "porcentagem_imposto = float(input('Quanto *em porcentagem* você paga de imposto? '))\n",
        "imposto = float((salario * porcentagem_imposto) / 100)\n",
        "Nsalario = float((salario + 50) - imposto)\n",
        "print('O salário a receber é de: R$', Nsalario)\n",
        "\n",
        "\n"
      ],
      "execution_count": null,
      "outputs": [
        {
          "output_type": "stream",
          "name": "stdout",
          "text": [
            "Informe seu salário: 1830\n",
            "Quanto *em porcentagem* você paga de imposto? 10\n",
            "O salário a receber é de: R$ 1697.0\n"
          ]
        }
      ]
    },
    {
      "cell_type": "markdown",
      "metadata": {
        "id": "pvZSNjjzg8oq"
      },
      "source": [
        "### 8. Faça um programa que receba o valor de um depósito e o valor da taxa de juros, calcule e mostre o valor do rendimento e o valor total depois do rendimento de um mês."
      ]
    },
    {
      "cell_type": "code",
      "metadata": {
        "id": "k0zejQegg9ma",
        "colab": {
          "base_uri": "https://localhost:8080/"
        },
        "outputId": "cdec847d-c594-4649-8e50-f6ab0e643f22"
      },
      "source": [
        "dep = int(input('Informe o valor do depósito: R$'))\n",
        "tax = float(input('Qual a taxa de juros mensal? (em porcentagem) '))\n",
        "rend1 = float(dep * tax / 100)\n",
        "print('O rendimento de juros após um mês é de: R$', rend1)\n",
        "print('Após 1 mês, o valor disponível para resgate é: R$', (dep + rend1))"
      ],
      "execution_count": null,
      "outputs": [
        {
          "output_type": "stream",
          "name": "stdout",
          "text": [
            "Informe o valor do depósito: R$5\n",
            "Qual a taxa de juros mensal? (em porcentagem) 325\n",
            "O rendimento de juros após um mês é de: R$ 16.25\n",
            "Após 1 mês, o valor disponível para resgate é: R$ 21.25\n"
          ]
        }
      ]
    },
    {
      "cell_type": "markdown",
      "metadata": {
        "id": "z42ADdywg9xS"
      },
      "source": [
        "### 9. Faça um programa que calcule e mostre a área de um triângulo. Sabe-se que: Área = (base * altura) / 2."
      ]
    },
    {
      "cell_type": "code",
      "metadata": {
        "id": "F-yamLhahCTK",
        "colab": {
          "base_uri": "https://localhost:8080/"
        },
        "outputId": "2c7f6d89-5b2b-4f58-d12b-a6810c3cc32b"
      },
      "source": [
        "base = int(input('Qual é a medida da Base do triângulo? (Em centímetros) '))\n",
        "altura = int(input('Qual é a medida da Altura do triângulo? (Em centímetros) '))\n",
        "area = float((base * altura) / 2)\n",
        "print('A Área do triângulo em questão é: ', area, 'cm')"
      ],
      "execution_count": null,
      "outputs": [
        {
          "output_type": "stream",
          "name": "stdout",
          "text": [
            "Qual é a medida da Base do triângulo? (Em centímetros) 10\n",
            "Qual é a medida da Altura do triângulo? (Em centímetros) 25\n",
            "A Área do triângulo em questão é:  125.0 cm\n"
          ]
        }
      ]
    },
    {
      "cell_type": "markdown",
      "metadata": {
        "id": "s4oSY4EghCfn"
      },
      "source": [
        "### 10. Faça um programa que calcule e mostre a área de um círculo. Sabe-se que: area = pi * raio² ou area = 3.1415 * raio²"
      ]
    },
    {
      "cell_type": "code",
      "metadata": {
        "id": "tvPiHGB0hE5N",
        "colab": {
          "base_uri": "https://localhost:8080/"
        },
        "outputId": "3824ff26-66ed-41b2-f6ec-e3d8eee7bf8a"
      },
      "source": [
        "pi = float(3.1415)\n",
        "diametro = int(input('Qual é o valor do diâmetro? '))\n",
        "raio = float(diametro / 2)\n",
        "area = float(pi * (raio * raio))\n",
        "print('A área desse círculo é: ', area)"
      ],
      "execution_count": null,
      "outputs": [
        {
          "output_type": "stream",
          "name": "stdout",
          "text": [
            "Qual é o valor do diâmetro? 18\n",
            "A área desse círculo é:  254.4615\n"
          ]
        }
      ]
    },
    {
      "cell_type": "markdown",
      "metadata": {
        "id": "vTot3sXrhFAT"
      },
      "source": [
        "### 11. Faça um programa que receba um número, calcule e mostre:\n",
        "* O número digitado ao quadrado\n",
        "* O número digitado ao cubo\n",
        "* A raiz do número digitado\n",
        "* A raiz cúbica do número digitado\n",
        "\n",
        "      LEIA numero\n",
        "      quadrado = numero ** 2\n",
        "      cubo = numero ** 3\n",
        "      raiz_quadrada = numero ** (½) (meio, ou 0.5)\n",
        "      raiz_cubica = numero ** (⅓) (um terço, ou 0.33)\n",
        "      ESCREVA quadrado, cubo, raiz_quadrada, raiz_cubica"
      ]
    },
    {
      "cell_type": "code",
      "metadata": {
        "id": "TT0-h8nChILi",
        "colab": {
          "base_uri": "https://localhost:8080/"
        },
        "outputId": "31686069-7bf9-48eb-9df5-3d0a69981ac8"
      },
      "source": [
        "num = int(input('insira um número: '))\n",
        "quadrado = float(num ** 2)\n",
        "cubo = float(num ** 3)\n",
        "raiz = float(num ** 0.5)\n",
        "raiz_cub = float(num ** 0.3333)\n",
        "print('O quadrado desse número é: ', quadrado)\n",
        "print('O cubo desse número é: ', cubo)\n",
        "print('A raiz quadrada desse número é: ', raiz)\n",
        "print('A raiz cúbica desse número é: ', raiz_cub)"
      ],
      "execution_count": null,
      "outputs": [
        {
          "output_type": "stream",
          "name": "stdout",
          "text": [
            "insira um número: 10\n",
            "O quadrado desse número é:  100.0\n",
            "O cubo desse número é:  1000.0\n",
            "A raiz quadrada desse número é:  3.1622776601683795\n",
            "A raiz cúbica desse número é:  2.1542693374042363\n"
          ]
        }
      ]
    },
    {
      "cell_type": "markdown",
      "metadata": {
        "id": "6w8k1c0ShIWK"
      },
      "source": [
        "### 12. Faça um programa que receba dois números, calcule e mostre um elevado ao outro. Use os caracteres **\n"
      ]
    },
    {
      "cell_type": "code",
      "metadata": {
        "id": "2KMY_7MQhKuf",
        "colab": {
          "base_uri": "https://localhost:8080/"
        },
        "outputId": "effb56af-c20f-4a8d-862e-1ac8a35ed180"
      },
      "source": [
        "num1 = int(input('Insira um número para A: '))\n",
        "num2 = int(input('Insira um número para B: '))\n",
        "elev = int(num1 ** num2)\n",
        "print('A elevado a B, é igual a: ', elev)"
      ],
      "execution_count": null,
      "outputs": [
        {
          "output_type": "stream",
          "name": "stdout",
          "text": [
            "Insira um número para A: 2\n",
            "Insira um número para B: 5\n",
            "A elevado a B, é igual a:  32\n"
          ]
        }
      ]
    },
    {
      "cell_type": "markdown",
      "metadata": {
        "id": "IKp4FbUQhK3f"
      },
      "source": [
        "### 13. Sabe-se que:\n",
        "\n",
        "* pé = 12 polegadas\n",
        "* 1 jarda = 3 pés\n",
        "* 1 milha = 1760 jarda\n",
        "\n",
        "Faça um programa que receba uma medida em pés, faça as conversões a seguir e mostre os resultados.\n",
        "\n",
        "* Polegadas;\n",
        "* Jardas;\n",
        "* Milhas.\n",
        "\n",
        "      LEIA pes\n",
        "      polegadas = pes * 12\n",
        "      jardas = pes / 3\n",
        "      milhas = jardas / 1760\n",
        "      ESCREVA polegadas, jardas, milhas"
      ]
    },
    {
      "cell_type": "code",
      "metadata": {
        "id": "RIaq7VtchNNp",
        "colab": {
          "base_uri": "https://localhost:8080/"
        },
        "outputId": "bf7002b2-5d7f-4c17-c097-60bbd116fe06"
      },
      "source": [
        "pes = int(input('Informe uma medida em pés: '))\n",
        "pole = int(pes * 12)\n",
        "jar = float(pes / 3)\n",
        "mil = float(jar / 1760)\n",
        "print(pes,'pés, é o equivalente a', pole,'polegadas.')\n",
        "print(pes,'pés, é o equivalente a', jar,'jardas.')\n",
        "print(pes,'pés, é o equivalente a', mil,'milhas.')"
      ],
      "execution_count": null,
      "outputs": [
        {
          "output_type": "stream",
          "name": "stdout",
          "text": [
            "Informe uma medida em pés: 15\n",
            "15 pés, é o equivalente a 180 polegadas.\n",
            "15 pés, é o equivalente a 5.0 jardas.\n",
            "15 pés, é o equivalente a 0.002840909090909091 milhas.\n"
          ]
        }
      ]
    },
    {
      "cell_type": "markdown",
      "metadata": {
        "id": "AuDRKznFhNXx"
      },
      "source": [
        "### 14. Faça um programa que receba o ano de nascimento de uma pessoa e o ano atual, calcule e mostre:\n",
        "* a idade atual da pessoa;\n",
        "* quantos anos ela terá em 2050."
      ]
    },
    {
      "cell_type": "code",
      "metadata": {
        "id": "OMzeO-7bhOGb",
        "colab": {
          "base_uri": "https://localhost:8080/"
        },
        "outputId": "4e1a3105-e06a-43f0-aa38-0568211c5caa"
      },
      "source": [
        "nascimento = int(input('Informe o ano do seu nascimento: '))\n",
        "atual = int(input('Em qual ano estamos? '))\n",
        "idade = int(atual - nascimento)\n",
        "print('A sua idade no ano de',atual, 'é: ', idade)\n",
        "print('Em 2050 você terá', (2050 - nascimento), 'anos.')"
      ],
      "execution_count": null,
      "outputs": [
        {
          "output_type": "stream",
          "name": "stdout",
          "text": [
            "Informe o ano do seu nascimento: 1978\n",
            "Em qual ano estamos? 2022\n",
            "A sua idade no ano de 2022 é:  44\n",
            "Em 2050 você terá 72 anos.\n"
          ]
        }
      ]
    },
    {
      "cell_type": "markdown",
      "metadata": {
        "id": "C23LWTfwhOPH"
      },
      "source": [
        "#### 15. O custo ao consumidor de um carro novo é a soma do preço de fábrica com o percentual de lucro do distribuidor e dos impostos aplicados ao preço de fábrica. Faça um programa que receba o preço de fábrica de um veículo, o percentual de lucro do distribuidor e o percentual de impostos, calcule e mostre:\n",
        "* o valor correspondente ao lucro do distribuidor;\n",
        "* o valor correspondente aos impostos;\n",
        "* o preço final do veículo.\n",
        "        LEIA preco_fabrica\n",
        "        LEIA percentual_lucro_distribuidor\n",
        "        LEIA percentual_imposto\n",
        "        lucro_distribuidor = preco_fabrica * percentual_lucro_distribuidor / 100\n",
        "        valor_imposto = preco_fabrica * percentual_imposto / 100\n",
        "        preco_final = preco_fabrica + lucro_distribuidor + valor_imposto\n",
        "        ESCREVA lucro_distribuidor\n",
        "        ESCREVA valor_imposto\n",
        "        ESCREVA preco_final\n"
      ]
    },
    {
      "cell_type": "code",
      "metadata": {
        "id": "WCpDCuR6hRlb",
        "colab": {
          "base_uri": "https://localhost:8080/"
        },
        "outputId": "2095b9e5-15f6-43ed-df89-03823bbba065"
      },
      "source": [
        "preco_fabrica = int(input('Qual é o preço do veículo pela fábrica? '))\n",
        "percentual_lucro_distribuidor = int(input('Qual é o percentual de lucro do distribuidor? '))\n",
        "percentual_imposto = int(input('Qual o percentual de imposto pago? '))\n",
        "valor_distribuidor = int((preco_fabrica * percentual_lucro_distribuidor / 100))\n",
        "valor_imposto = int((preco_fabrica * percentual_imposto) / 100)\n",
        "valor_final = int(preco_fabrica + valor_distribuidor + valor_imposto)\n",
        "print('O valor do lucro do distribuidor é de: R$', valor_distribuidor)\n",
        "print('O valor do imposto é de: R$', valor_imposto)\n",
        "print('O valor final do veículo é de: R$', valor_final)"
      ],
      "execution_count": null,
      "outputs": [
        {
          "output_type": "stream",
          "name": "stdout",
          "text": [
            "Qual é o preço do veículo pela fábrica? 18000\n",
            "Qual é o percentual de lucro do distribuidor? 12\n",
            "Qual o percentual de imposto pago? 7\n",
            "O valor do lucro do distribuidor é de: R$ 2160\n",
            "O valor do imposto é de: R$ 1260\n",
            "O valor final do veículo é de: R$ 21420\n"
          ]
        }
      ]
    },
    {
      "cell_type": "markdown",
      "metadata": {
        "id": "eHRob5vghRuI"
      },
      "source": [
        "### 16. Faça um programa que receba o número de horas trabalhadas e o valor do salário mínimo, calcule e mostre o salário a receber, seguindo estas regras:\n",
        "* a hora trabalhada vale a metade do salário mínimo.\n",
        "* o salário bruto equivale ao número de horas trabalhadas multiplicado pelo valor da hora trabalhada.\n",
        "* o imposto equivale a 3% do salário bruto.\n",
        "* o salário a receber equivale ao salário bruto menos o imposto.\n",
        "      LEIA qtde_horas_trabalhadas\n",
        "      LEIA valor_salario_minimo\n",
        "      valor_hora_trabalhada = valor_salario_minimo / 2\n",
        "      valor_salario_bruto = valor_hora_trabalhada * qtde_horas_trabalhadas\n",
        "      imposto = valor_salario_bruto * 3 / 100\n",
        "      valor_salario_liquido =  valor_salario_bruto - imposto\n",
        "      ESCREVA valor_salario_liquido"
      ]
    },
    {
      "cell_type": "code",
      "metadata": {
        "id": "w_Kil4knhVrJ",
        "colab": {
          "base_uri": "https://localhost:8080/"
        },
        "outputId": "25230e17-cc72-4814-c1e2-750c2d734c88"
      },
      "source": [
        "salario_base = int(input('Informe o seu salário '))\n",
        "horas_trabalhadas = int(input('Informe a quantidade de horas trabalhadas: '))\n",
        "valor_hora = float(salario_base / 2)\n",
        "salario_bruto = float(valor_hora * horas_trabalhadas)\n",
        "imposto = float((salario_bruto * 3) / 100)\n",
        "salario_liquido = float(salario_bruto - imposto)\n",
        "print('O seu salário líquido é de: R$', salario_liquido)"
      ],
      "execution_count": null,
      "outputs": [
        {
          "output_type": "stream",
          "name": "stdout",
          "text": [
            "Informe o seu salário 1830\n",
            "Informe a quantidade de horas trabalhadas: 176\n",
            "O seu salário líquido é de: R$ 156208.8\n"
          ]
        }
      ]
    },
    {
      "cell_type": "markdown",
      "metadata": {
        "id": "0OW87yEnhV-V"
      },
      "source": [
        "### 17. Um trabalhador recebeu seu salário e o depositou em sua conta bancária. Esse trabalhador emitiu dois cheques e agora deseja saber seu saldo atual. O banco criou uma taxa para a operação bancária de retirada que tem que pagar um imposto de 0.38% e o saldo inicial da conta está zerado.\n",
        "\n",
        "      LEIA salario\n",
        "      LEIA valor_cheque1\n",
        "      LEIA valor_cheque2\n",
        "      imposto_cheque1 = valor_cheque1 * 0.38 / 100\n",
        "      saque1 = valor_cheque1 + imposto_cheque1\n",
        "      imposto_cheque2 = cheque2 * 0.38 / 100\n",
        "      saque2 = valor_cheque2 + imposto_cheque2\n",
        "      saldo = salario - saque1 - saque2\n",
        "      ESCREVA saldo\n"
      ]
    },
    {
      "cell_type": "code",
      "metadata": {
        "id": "MUEC63qMhYu1",
        "colab": {
          "base_uri": "https://localhost:8080/"
        },
        "outputId": "573f3217-ba45-4c56-c295-245af135c464"
      },
      "source": [
        "salario = int(input('Informe seu salário: R$')) \n",
        "cheque1 = int(input('Informe o valor do cheque 01: R$'))\n",
        "cheque2 = int(input('Informe o valor do cheque 02: R$'))\n",
        "taxa_cheque1 = float(cheque1 * 0.38 /100)\n",
        "taxa_cheque2 = float(cheque2 * 0.38 /100)\n",
        "saque1 = float(cheque1 + taxa_cheque1)\n",
        "saque2 = float(cheque2 + taxa_cheque2)\n",
        "saldo = float(salario - saque1 - saque2)\n",
        "print('Seu saldo é de: R$', saldo)"
      ],
      "execution_count": null,
      "outputs": [
        {
          "output_type": "stream",
          "name": "stdout",
          "text": [
            "Informe seu salário: R$1830\n",
            "Informe o valor do cheque 01: R$280\n",
            "Informe o valor do cheque 02: R$175\n",
            "Seu saldo é de: R$ 1373.271\n"
          ]
        }
      ]
    },
    {
      "cell_type": "markdown",
      "metadata": {
        "id": "tbHb8qiYheU3"
      },
      "source": [
        "### 18. Faça um programa que receba a medida do ângulo (em graus) formado por uma escada apoiada no chão e encostada na parede e a altura da parede onde está a ponta da escada. Calcule e mostre a medida dessa escada. Observação: as funções trigonométricas implementadas nas linguagens de programação trabalham com medidas de ângulos em radianos.\n",
        "      LEIA angulo\n",
        "      LEIA altura\n",
        "      import math # carrega a biblioteca matemática\n",
        "      radiano = angulo * math.pi / 180\n",
        "      escada = altura / math.sin(radiano)\n",
        "      ESCREVA escada\n",
        "**Observação**: Para usar seno em Python, deve-se usar esta linha de código **import math** e esta, no cálculo, **math.sin(numero)**\n",
        "\n",
        "**import math**\n",
        "\n",
        "escada = altura / **math.sin**(numero)"
      ]
    },
    {
      "cell_type": "code",
      "metadata": {
        "id": "Ijh7i02rhg0D",
        "colab": {
          "base_uri": "https://localhost:8080/"
        },
        "outputId": "18c1baf8-2fcd-4560-f3cd-82b2400274dc"
      },
      "source": [
        "angulo = float(input('Informe o ângulo da escada: '))\n",
        "altura = float(input('Inrforme a altura da parede: '))\n",
        "import math\n",
        "radiano = float((angulo * math.pi) / 180)\n",
        "escada = float(altura / math.sin(radiano))\n",
        "print('A medida dessa escada é: ', escada)"
      ],
      "execution_count": null,
      "outputs": [
        {
          "output_type": "stream",
          "name": "stdout",
          "text": [
            "Informe o ângulo da escada: 45\n",
            "Inrforme a altura da parede: 6\n",
            "A medida dessa escada é:  8.485281374238571\n"
          ]
        }
      ]
    },
    {
      "cell_type": "markdown",
      "metadata": {
        "id": "P2CNkCZ5hiJH"
      },
      "source": [
        "###19. Sabe-se que o quilowatt de energia custa um quinto do salário mínimo. Faça um programa que receba o valor do salário mínimo e a quantidade de quilowatts consumida por uma residência. Calcule e mostre:\n",
        "\n",
        "\n",
        "* o valor de cada quilowatt;\n",
        "* o valor a ser pago por essa residência;\n",
        "* o valor a ser pago com desconto de 15%.\n",
        "      LEIA valor_salario\n",
        "      LEIA qtde_quilowatt\n",
        "      valor_quilowatt = valor_salario / 5\n",
        "      valor_em_reais = valor_quilowatt * qtde_quilowatt\n",
        "      valor_descontado = valor_em_reais * 15 / 100\n",
        "      valor_com_desconto =  valor_em_reais − valor_descontado\n",
        "      ESCREVA valor_quilowatt\n",
        "      ESCREVA valor_em_reais\n",
        "      ESCREVA valor_com_desconto\n"
      ]
    },
    {
      "cell_type": "code",
      "metadata": {
        "id": "RJpeKC7NhmIf",
        "colab": {
          "base_uri": "https://localhost:8080/"
        },
        "outputId": "f210f096-f8d6-487c-98ec-12c0c8cf43d2"
      },
      "source": [
        "salario = int(input('Informe o valor do salário: R$'))\n",
        "qtde_quilowatt = int(input('Informe a quantidade de quilowatt: '))\n",
        "valor_quilowatt = float(salario / 5)\n",
        "total_quilowatt = float(valor_quilowatt * qtde_quilowatt)\n",
        "desconto = float(total_quilowatt - ((total_quilowatt * 15) / 100))\n",
        "print('O valor de cada quilowatt é de: R$', valor_quilowatt)\n",
        "print('O valor a ser pago no total é de: R$', total_quilowatt)\n",
        "print('O valor total com desconto de 15% é de: R$', desconto)\n"
      ],
      "execution_count": null,
      "outputs": [
        {
          "output_type": "stream",
          "name": "stdout",
          "text": [
            "Informe o valor do salário: R$1830\n",
            "Informe a quantidade de quilowatt: 1\n",
            "O valor de cada quilowatt é de: R$ 366.0\n",
            "O valor a ser pago no total é de: R$ 366.0\n",
            "O valor total com desconto de 15% é de: R$ 311.1\n"
          ]
        }
      ]
    },
    {
      "cell_type": "markdown",
      "metadata": {
        "id": "hDmdn0BWhmTx"
      },
      "source": [
        "### 20. Faça um programa que receba um número real, encontre e mostre:\n",
        "\n",
        "* a parte inteira desse número;\n",
        "* a parte fracionária desse número;\n",
        "* o arredondamento desse número.\n",
        "\n",
        "      LEIA numero\n",
        "      parte_inteira = numero // 1\n",
        "      parte_fracionaria = numero - parte_inteira\n",
        "      numero_arredondado = arredonda (numero)\n",
        "      ESCREVA parte_inteira\n",
        "      ESCREVA parte_fracionaria\n",
        "      ESCREVA numero_arredondado\n",
        "      \n",
        "**Observação**: Para arredondar um número em Python, usa-se a função **round(numero)**, onde se o número real/float estiver em igual distância entre o inteiro de cima e o inteiro de baixo, esta função arredonda para o número par mais próximo.\n",
        "\n"
      ]
    },
    {
      "cell_type": "code",
      "metadata": {
        "id": "sT5U0LgGhozg",
        "colab": {
          "base_uri": "https://localhost:8080/"
        },
        "outputId": "0063cf49-e235-4792-da5f-cdf2ad052328"
      },
      "source": [
        "num = float(input('Informe um número real: '))\n",
        "parte_inteira = int(num // 1)\n",
        "parte_fracionaria = float(num - parte_inteira)\n",
        "num_arredondado = int(round(num))\n",
        "print('A parte inteira do número informado é: ', parte_inteira)\n",
        "print('A parte fracionária do número informado é: ', parte_fracionaria)\n",
        "print('O número informado arrendondado é: ', num_arredondado)"
      ],
      "execution_count": null,
      "outputs": [
        {
          "output_type": "stream",
          "name": "stdout",
          "text": [
            "Informe um número real: 3.1415\n",
            "A parte inteira do número informado é:  3\n",
            "A parte fracionária do número informado é:  0.14150000000000018\n",
            "O número informado arrendondado é:  3\n"
          ]
        }
      ]
    },
    {
      "cell_type": "markdown",
      "metadata": {
        "id": "0Ae-WDdAho8j"
      },
      "source": [
        "### 21. Faça um programa que receba uma hora formada por hora e minutos (um número real), calcule e mostre a hora digitada apenas em minutos. Lembre-se de que:\n",
        "* para quatro e meia, deve-se digitar 4.30;\n",
        "* os minutos vão de 0 a 59.\n",
        "      LEIA hora\n",
        "      h = pegar a parte inteira da variável hora\n",
        "      minutos = hora − h\n",
        "      conversao = (h * 60) + (minutos * 100)\n",
        "      ESCREVA conversao\n"
      ]
    },
    {
      "cell_type": "code",
      "metadata": {
        "id": "ePoxc4bohrQm",
        "colab": {
          "base_uri": "https://localhost:8080/"
        },
        "outputId": "d242933b-0d3e-45ef-8249-e895e6d0083a"
      },
      "source": [
        "hora_lida = float(input('Informe uma hora: '))\n",
        "hora_inteira = float(hora_lida // 1)\n",
        "hora_min = float(hora_inteira * 60)\n",
        "minutos = float((hora_lida - hora_inteira) * 100)\n",
        "soma_minutos = int(minutos + hora_min)\n",
        "print('O total de horas em minutos é: ', soma_minutos,' minutos.')"
      ],
      "execution_count": null,
      "outputs": [
        {
          "output_type": "stream",
          "name": "stdout",
          "text": [
            "Informe uma hora: 4.30\n",
            "O total de horas em minutos é:  270  minutos.\n"
          ]
        }
      ]
    },
    {
      "cell_type": "markdown",
      "metadata": {
        "id": "-YjvNy_DhrZa"
      },
      "source": [
        "### 22. Faça um programa que receba o custo de um espetáculo teatral e o preço do convite desse espetáculo. Esse programa deverá calcular e mostrar a quantidade de convites que devem ser vendidos para que, pelo menos, o custo do espetáculo seja alcançado.\n"
      ]
    },
    {
      "cell_type": "code",
      "metadata": {
        "id": "55qawy58hsl0",
        "colab": {
          "base_uri": "https://localhost:8080/"
        },
        "outputId": "2bfcd2f9-7316-44f2-bfe2-da44aa0bd751"
      },
      "source": [
        "custo_espetaculo = int(input('Qual é o custo do espetáculo? R$'))\n",
        "custo_convite = int(input('Qual é o custo do convite? R$'))\n",
        "convite_minimo = int(round(custo_espetaculo / custo_convite))\n",
        "print('São necessários pelo menos', convite_minimo,'para alcançar o custo do espetáculo.')"
      ],
      "execution_count": null,
      "outputs": [
        {
          "output_type": "stream",
          "name": "stdout",
          "text": [
            "Qual é o custo do espetáculo? R$1830\n",
            "Qual é o custo do convite? R$13\n",
            "São necessários pelo menos 141 para alcançar o custo do espetáculo.\n"
          ]
        }
      ]
    }
  ]
}